{
 "cells": [
  {
   "cell_type": "code",
   "execution_count": 1,
   "metadata": {},
   "outputs": [],
   "source": [
    "import pytorch_lightning as pl\n",
    "import numpy as np\n",
    "import torch"
   ]
  },
  {
   "cell_type": "markdown",
   "metadata": {},
   "source": [
    "## Datamodule"
   ]
  },
  {
   "cell_type": "code",
   "execution_count": 2,
   "metadata": {},
   "outputs": [],
   "source": [
    "from shared import QM9MainDatamodule\n",
    "from torch_geometric.loader import DataLoader as GeomDataLoader\n",
    "\n",
    "\n",
    "class GraphQM9Datamodule(QM9MainDatamodule):\n",
    "    def train_dataloader(self):\n",
    "        return GeomDataLoader(self.train_set, batch_size=self.batch_size, num_workers=4)\n",
    "\n",
    "    def val_dataloader(self):\n",
    "        return GeomDataLoader(self.val_set, batch_size=self.batch_size, num_workers=4)\n",
    "\n",
    "    def test_dataloader(self):\n",
    "        return GeomDataLoader(self.test_set, batch_size=self.batch_size, num_workers=self.num_workers)"
   ]
  },
  {
   "cell_type": "markdown",
   "metadata": {},
   "source": [
    "## Networks"
   ]
  },
  {
   "cell_type": "code",
   "execution_count": 3,
   "metadata": {},
   "outputs": [],
   "source": [
    "import torch.nn.functional as F\n",
    "from shared import Module\n",
    "from torch_geometric.nn.models.schnet import SchNet\n",
    "\n",
    "class SchNetModule(Module):\n",
    "    def __init__(self, **kwargs):\n",
    "        super().__init__()\n",
    "        if 'lr' in kwargs:\n",
    "            self.lr = kwargs.pop('lr')\n",
    "        self.net = SchNet(**kwargs)\n",
    "        \n",
    "    def step(self, batch, batch_idx):\n",
    "        z, pos, y, g_batch = batch.z, batch.pos, batch.y, batch.batch\n",
    "        output = self.net(z, pos, g_batch)\n",
    "        loss = F.l1_loss(output, y)\n",
    "        return loss, output.detach(), y.detach()\n",
    "    \n",
    "    def configure_optimizers(self):\n",
    "        optimizer =  torch.optim.Adam(self.parameters(), lr=self.lr)\n",
    "        return {\n",
    "            \"optimizer\": optimizer,\n",
    "            \"lr_scheduler\": {\n",
    "                \"scheduler\": torch.optim.lr_scheduler.StepLR(optimizer, step_size=20, gamma=0.96)\n",
    "            },\n",
    "        }"
   ]
  },
  {
   "cell_type": "markdown",
   "metadata": {},
   "source": [
    "## Training"
   ]
  },
  {
   "cell_type": "code",
   "execution_count": 6,
   "metadata": {},
   "outputs": [
    {
     "name": "stderr",
     "output_type": "stream",
     "text": [
      "GPU available: True, used: True\n",
      "TPU available: False, using: 0 TPU cores\n",
      "IPU available: False, using: 0 IPUs\n"
     ]
    }
   ],
   "source": [
    "from pytorch_lightning.callbacks.early_stopping import EarlyStopping\n",
    "from pytorch_lightning.callbacks.model_checkpoint import ModelCheckpoint\n",
    "\n",
    "if __name__ ==  \"__main__\":\n",
    "    logger = pl.loggers.tensorboard.TensorBoardLogger(\"./lightning_logs/\", name='schnet', version='with_gradient_clip')\n",
    "    early_stop_callback = EarlyStopping(monitor=\"loss/val\", patience=10, verbose=False, mode=\"min\")\n",
    "    checkpoint_callback = ModelCheckpoint(monitor='loss/val', filename='schnet-epoch{epoch:02d}-val_loss{val/loss:.2f}',\n",
    "                                          auto_insert_metric_name=False, save_top_k=10)\n",
    "\n",
    "\n",
    "    trainer = pl.Trainer(gpus=[1], logger=logger, max_epochs=200,  \n",
    "                         callbacks=[checkpoint_callback], gradient_clip_val=0.5)\n",
    "    datamodule = GraphQM9Datamodule()\n",
    "    # TODO output_size require modyfying of lib, make class in future\n",
    "    model = SchNetModule(hidden_channels= 128, num_filters = 128,\n",
    "                 num_interactions = 6, num_gaussians = 50,\n",
    "                 cutoff= 10.0, max_num_neighbors = 32, output_size=12)"
   ]
  },
  {
   "cell_type": "code",
   "execution_count": null,
   "metadata": {},
   "outputs": [],
   "source": [
    "if __name__ ==  \"__main__\":\n",
    "    trainer.fit(model, datamodule, ckpt_path=\"./lightning_logs/schnet/with_gradient_clip/checkpoints/schnet-epoch99-val_loss0.00.ckpt\")\n",
    "    trainer.test(model, datamodule)"
   ]
  }
 ],
 "metadata": {
  "interpreter": {
   "hash": "ea35a61d2bf4bf3434181c5376b70e31d0695b011d5564fcc8ce18196d26ba4b"
  },
  "kernelspec": {
   "display_name": "gnn",
   "language": "python",
   "name": "gnn"
  },
  "language_info": {
   "codemirror_mode": {
    "name": "ipython",
    "version": 3
   },
   "file_extension": ".py",
   "mimetype": "text/x-python",
   "name": "python",
   "nbconvert_exporter": "python",
   "pygments_lexer": "ipython3",
   "version": "3.9.7"
  }
 },
 "nbformat": 4,
 "nbformat_minor": 4
}
