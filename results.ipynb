{
 "cells": [
  {
   "cell_type": "code",
   "execution_count": 1,
   "metadata": {},
   "outputs": [],
   "source": [
    "%load_ext autoreload\n",
    "%autoreload 2"
   ]
  },
  {
   "cell_type": "code",
   "execution_count": 2,
   "metadata": {},
   "outputs": [],
   "source": [
    "import pytorch_lightning as pl\n",
    "import numpy as np\n",
    "import pandas as pd\n",
    "import torch"
   ]
  },
  {
   "cell_type": "markdown",
   "metadata": {},
   "source": [
    "##  Datasets\n",
    "### Dataset\n",
    "\n",
    "* One-hot-encoding atoms: types = {'H': 0, 'C': 1, 'N': 2, 'O': 3, 'F': 4}\n",
    "\n",
    "* Atomic number\n",
    "\n",
    "* Position in xyz \n",
    "\n",
    "* Type of hybridization \n",
    "\n",
    "* Types of bounds\n",
    "\n",
    "\n",
    "\n",
    "### Label Description\n",
    "\n",
    "|Index | Name | Units | Description|\n",
    " |:-----|-------|-------|-----------:|\n",
    "  |0  |index  |   -            |Consecutive, 1-based integer identifier of molecule|\n",
    "  |1  |mu     |   Debye        |Dipole moment|\n",
    "  |2  |alpha  |   Bohr^3       |Isotropic polarizability|\n",
    "  |3  |homo   |   Hartree      |Energy of Highest occupied molecular orbital (HOMO)|\n",
    "  |4  |lumo   |   Hartree      |Energy of Lowest unoccupied molecular orbital (LUMO)|\n",
    " |5 | gap   |    Hartree     | Gap, difference between LUMO and HOMO|\n",
    " |6 | r2    |    Bohr^2      | Electronic spatial extent|\n",
    " |7 | zpve  |    Hartree     | Zero point vibrational energy|\n",
    " |8 | U0    |    Hartree     | Internal energy at 0 K|\n",
    " |9 | U     |    Hartree     | Internal energy at 298.15 K|\n",
    " |10 | H     |    Hartree     | Enthalpy at 298.15 K|\n",
    " |11 | G     |    Hartree     | Free energy at 298.15 K|\n",
    " |12 | Cv    |    cal/(mol K) | Heat capacity at 298.15 K|"
   ]
  },
  {
   "cell_type": "code",
   "execution_count": 3,
   "metadata": {},
   "outputs": [],
   "source": [
    "targets = [\"mu\", \"alpha\", \"homo\", \"lumo\", \"gap\", \"r2\", \"ZPVE\", \"U0\", \"U\", \"H\", \"G\", \"Cv\"]"
   ]
  },
  {
   "cell_type": "markdown",
   "metadata": {},
   "source": [
    "## Calculate MEA based on median"
   ]
  },
  {
   "cell_type": "code",
   "execution_count": 4,
   "metadata": {},
   "outputs": [],
   "source": [
    "from shared import QM9MainDatamodule\n",
    "\n",
    "datamodule = QM9MainDatamodule()\n",
    "datamodule.setup()"
   ]
  },
  {
   "cell_type": "code",
   "execution_count": 5,
   "metadata": {},
   "outputs": [
    {
     "name": "stdout",
     "output_type": "stream",
     "text": [
      "std. MAE in % based on median: 78.12502980232239\n"
     ]
    }
   ],
   "source": [
    "from shared import calculate_metrics\n",
    "ys =  datamodule.train_set.data.y\n",
    "ys = (ys - ys.mean(axis=0))/ ys.std(axis=0)\n",
    "ms = ys.median(axis=0).values\n",
    "\n",
    "maes, std_maes, _, std_mae = calculate_metrics(ms, ys)\n",
    "print(\"std. MAE in % based on median:\", std_mae * 100)"
   ]
  },
  {
   "cell_type": "code",
   "execution_count": 7,
   "metadata": {},
   "outputs": [],
   "source": [
    "medians = pd.DataFrame({\"target\":targets, \"always_median_model\":maes})"
   ]
  },
  {
   "cell_type": "code",
   "execution_count": 8,
   "metadata": {},
   "outputs": [],
   "source": [
    "from ipynb.fs.full.train_dimenet import GraphQM9Datamodule, DimeNet\n",
    "from ipynb.fs.full.train_schnet import SchNetModule\n",
    "from ipynb.fs.full.train_ff import FeedforwadModule, FlattenQM9Datamodule\n",
    "\n",
    "def get_dict_with_prefix(d, prefix):\n",
    "    return {k[len(prefix):]: v for k, v in d.items() if k.startswith(prefix)}"
   ]
  },
  {
   "cell_type": "code",
   "execution_count": null,
   "metadata": {},
   "outputs": [],
   "source": [
    "path = \"/home/azapala/quantum_mechanics_of_molecules/lightning_logs/schnet/with_gradient_clip/checkpoints/schnet-epoch199-val_loss0.00.ckpt\"\n",
    "logger = pl.loggers.tensorboard.TensorBoardLogger(\"./lightning_logs/\", name='schnet', version='with_gradient_clip')\n",
    "\n",
    "datamodule = GraphQM9Datamodule()\n",
    "model = SchNetModule.load_from_checkpoint(path)\n",
    "trainer = pl.Trainer(gpus=[1], logger=logger)\n",
    "res = trainer.test(model, datamodule)\n",
    "\n",
    "schnet = pd.DataFrame.from_dict(get_dict_with_prefix(res[0], \"maes/\"), orient=\"index\",columns=[\"%maes_shcnet\"])"
   ]
  },
  {
   "cell_type": "code",
   "execution_count": 10,
   "metadata": {},
   "outputs": [],
   "source": [
    "import torch.nn.functional as F\n",
    "from shared import Module\n",
    "\n",
    "class DimeNetModule(Module):\n",
    "    def __init__(self, **kwargs):\n",
    "        super().__init__()\n",
    "        kwargs.pop('lr',0)\n",
    "        self.net = DimeNet(**kwargs)\n",
    "        \n",
    "    def step(self, batch, batch_idx):\n",
    "        z, pos, y, g_batch = batch.z, batch.pos, batch.y, batch.batch\n",
    "        output = self.net(z, pos, g_batch)\n",
    "        loss = F.l1_loss(output, y)\n",
    "        return loss, output.detach(), y.detach()"
   ]
  },
  {
   "cell_type": "code",
   "execution_count": null,
   "metadata": {},
   "outputs": [],
   "source": [
    "path = \"/home/azapala/quantum_mechanics_of_molecules/lightning_logs/dimenet/with_gradient_clip/checkpoints/dimenet-epoch53-val_loss0.00.ckpt\"\n",
    "logger = pl.loggers.tensorboard.TensorBoardLogger(\"./lightning_logs/\", name='dimenet', version='with_gradient_clip')\n",
    "\n",
    "datamodule = GraphQM9Datamodule()\n",
    "model = DimeNetModule.load_from_checkpoint(path)\n",
    "trainer = pl.Trainer(gpus=[1], logger=logger)\n",
    "res = trainer.test(model, datamodule)\n",
    "\n",
    "dimenet = pd.DataFrame.from_dict(get_dict_with_prefix(res[0], \"maes/\"), orient=\"index\",columns=[\"%maes_dimenet\"])"
   ]
  },
  {
   "cell_type": "code",
   "execution_count": null,
   "metadata": {},
   "outputs": [],
   "source": [
    "path = \"/home/azapala/quantum_mechanics_of_molecules/lightning_logs/feedforward_2_hidden_layers/version_0/checkpoints/feedforward-epoch42-val_loss0.00.ckpt\"\n",
    "logger = pl.loggers.tensorboard.TensorBoardLogger(\"./lightning_logs/\", name='feedforward_2_hidden_layers', version='version_0')\n",
    "\n",
    "datamodule = FlattenQM9Datamodule()\n",
    "model = FeedforwadModule.load_from_checkpoint(path)\n",
    "trainer = pl.Trainer(gpus=[1], logger=logger)\n",
    "res = trainer.test(model, datamodule)\n",
    "\n",
    "ff = pd.DataFrame.from_dict(get_dict_with_prefix(res[0], \"maes/\"), orient=\"index\",columns=[\"%maes_ff\"])"
   ]
  },
  {
   "cell_type": "code",
   "execution_count": 13,
   "metadata": {},
   "outputs": [
    {
     "data": {
      "text/html": [
       "<div>\n",
       "<style scoped>\n",
       "    .dataframe tbody tr th:only-of-type {\n",
       "        vertical-align: middle;\n",
       "    }\n",
       "\n",
       "    .dataframe tbody tr th {\n",
       "        vertical-align: top;\n",
       "    }\n",
       "\n",
       "    .dataframe thead th {\n",
       "        text-align: right;\n",
       "    }\n",
       "</style>\n",
       "<table border=\"1\" class=\"dataframe\">\n",
       "  <thead>\n",
       "    <tr style=\"text-align: right;\">\n",
       "      <th></th>\n",
       "      <th>%maes_dimenet</th>\n",
       "      <th>%maes_shcnet</th>\n",
       "      <th>always_median_model</th>\n",
       "      <th>%maes_ff</th>\n",
       "    </tr>\n",
       "  </thead>\n",
       "  <tbody>\n",
       "    <tr>\n",
       "      <th>mu</th>\n",
       "      <td>0.070110</td>\n",
       "      <td>0.063166</td>\n",
       "      <td>0.771168</td>\n",
       "      <td>0.449393</td>\n",
       "    </tr>\n",
       "    <tr>\n",
       "      <th>alpha</th>\n",
       "      <td>0.029109</td>\n",
       "      <td>0.030830</td>\n",
       "      <td>0.769080</td>\n",
       "      <td>0.107129</td>\n",
       "    </tr>\n",
       "    <tr>\n",
       "      <th>homo</th>\n",
       "      <td>0.089074</td>\n",
       "      <td>0.095565</td>\n",
       "      <td>0.734810</td>\n",
       "      <td>0.347778</td>\n",
       "    </tr>\n",
       "    <tr>\n",
       "      <th>lumo</th>\n",
       "      <td>0.054858</td>\n",
       "      <td>0.054222</td>\n",
       "      <td>0.824307</td>\n",
       "      <td>0.201500</td>\n",
       "    </tr>\n",
       "    <tr>\n",
       "      <th>gap</th>\n",
       "      <td>0.061586</td>\n",
       "      <td>0.067103</td>\n",
       "      <td>0.835977</td>\n",
       "      <td>0.237089</td>\n",
       "    </tr>\n",
       "    <tr>\n",
       "      <th>r2</th>\n",
       "      <td>0.022543</td>\n",
       "      <td>0.016228</td>\n",
       "      <td>0.710194</td>\n",
       "      <td>0.153225</td>\n",
       "    </tr>\n",
       "    <tr>\n",
       "      <th>ZPVE</th>\n",
       "      <td>0.009634</td>\n",
       "      <td>0.011914</td>\n",
       "      <td>0.795175</td>\n",
       "      <td>0.023927</td>\n",
       "    </tr>\n",
       "    <tr>\n",
       "      <th>U0</th>\n",
       "      <td>0.011863</td>\n",
       "      <td>0.012979</td>\n",
       "      <td>0.786488</td>\n",
       "      <td>0.037447</td>\n",
       "    </tr>\n",
       "    <tr>\n",
       "      <th>U</th>\n",
       "      <td>0.012118</td>\n",
       "      <td>0.011558</td>\n",
       "      <td>0.786640</td>\n",
       "      <td>0.037729</td>\n",
       "    </tr>\n",
       "    <tr>\n",
       "      <th>H</th>\n",
       "      <td>0.012576</td>\n",
       "      <td>0.011220</td>\n",
       "      <td>0.786702</td>\n",
       "      <td>0.037535</td>\n",
       "    </tr>\n",
       "    <tr>\n",
       "      <th>G</th>\n",
       "      <td>0.013437</td>\n",
       "      <td>0.012815</td>\n",
       "      <td>0.785916</td>\n",
       "      <td>0.041177</td>\n",
       "    </tr>\n",
       "    <tr>\n",
       "      <th>Cv</th>\n",
       "      <td>0.024942</td>\n",
       "      <td>0.027148</td>\n",
       "      <td>0.788546</td>\n",
       "      <td>0.120514</td>\n",
       "    </tr>\n",
       "  </tbody>\n",
       "</table>\n",
       "</div>"
      ],
      "text/plain": [
       "       %maes_dimenet  %maes_shcnet  always_median_model  %maes_ff\n",
       "mu          0.070110      0.063166             0.771168  0.449393\n",
       "alpha       0.029109      0.030830             0.769080  0.107129\n",
       "homo        0.089074      0.095565             0.734810  0.347778\n",
       "lumo        0.054858      0.054222             0.824307  0.201500\n",
       "gap         0.061586      0.067103             0.835977  0.237089\n",
       "r2          0.022543      0.016228             0.710194  0.153225\n",
       "ZPVE        0.009634      0.011914             0.795175  0.023927\n",
       "U0          0.011863      0.012979             0.786488  0.037447\n",
       "U           0.012118      0.011558             0.786640  0.037729\n",
       "H           0.012576      0.011220             0.786702  0.037535\n",
       "G           0.013437      0.012815             0.785916  0.041177\n",
       "Cv          0.024942      0.027148             0.788546  0.120514"
      ]
     },
     "execution_count": 13,
     "metadata": {},
     "output_type": "execute_result"
    }
   ],
   "source": [
    "df_res = pd.concat([dimenet, schnet, medians.set_index('target'), ff], axis=1)\n",
    "df_res"
   ]
  },
  {
   "cell_type": "code",
   "execution_count": 16,
   "metadata": {},
   "outputs": [
    {
     "data": {
      "text/html": [
       "<div>\n",
       "<style scoped>\n",
       "    .dataframe tbody tr th:only-of-type {\n",
       "        vertical-align: middle;\n",
       "    }\n",
       "\n",
       "    .dataframe tbody tr th {\n",
       "        vertical-align: top;\n",
       "    }\n",
       "\n",
       "    .dataframe thead th {\n",
       "        text-align: right;\n",
       "    }\n",
       "</style>\n",
       "<table border=\"1\" class=\"dataframe\">\n",
       "  <thead>\n",
       "    <tr style=\"text-align: right;\">\n",
       "      <th></th>\n",
       "      <th>std_mea</th>\n",
       "    </tr>\n",
       "  </thead>\n",
       "  <tbody>\n",
       "    <tr>\n",
       "      <th>%maes_dimenet</th>\n",
       "      <td>0.034321</td>\n",
       "    </tr>\n",
       "    <tr>\n",
       "      <th>%maes_shcnet</th>\n",
       "      <td>0.034562</td>\n",
       "    </tr>\n",
       "    <tr>\n",
       "      <th>always_median_model</th>\n",
       "      <td>0.781250</td>\n",
       "    </tr>\n",
       "    <tr>\n",
       "      <th>%maes_ff</th>\n",
       "      <td>0.149537</td>\n",
       "    </tr>\n",
       "  </tbody>\n",
       "</table>\n",
       "</div>"
      ],
      "text/plain": [
       "                      std_mea\n",
       "%maes_dimenet        0.034321\n",
       "%maes_shcnet         0.034562\n",
       "always_median_model  0.781250\n",
       "%maes_ff             0.149537"
      ]
     },
     "execution_count": 16,
     "metadata": {},
     "output_type": "execute_result"
    }
   ],
   "source": [
    "df_res.mean().to_frame(\"std_mea\")"
   ]
  }
 ],
 "metadata": {
  "interpreter": {
   "hash": "ea35a61d2bf4bf3434181c5376b70e31d0695b011d5564fcc8ce18196d26ba4b"
  },
  "kernelspec": {
   "display_name": "gnn",
   "language": "python",
   "name": "gnn"
  },
  "language_info": {
   "codemirror_mode": {
    "name": "ipython",
    "version": 3
   },
   "file_extension": ".py",
   "mimetype": "text/x-python",
   "name": "python",
   "nbconvert_exporter": "python",
   "pygments_lexer": "ipython3",
   "version": "3.9.7"
  }
 },
 "nbformat": 4,
 "nbformat_minor": 2
}
