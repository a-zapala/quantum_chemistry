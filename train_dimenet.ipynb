{
 "cells": [
  {
   "cell_type": "code",
   "execution_count": 1,
   "metadata": {},
   "outputs": [],
   "source": [
    "import pytorch_lightning as pl\n",
    "import numpy as np\n",
    "import torch"
   ]
  },
  {
   "cell_type": "markdown",
   "metadata": {},
   "source": [
    "## Datamodule"
   ]
  },
  {
   "cell_type": "code",
   "execution_count": 2,
   "metadata": {},
   "outputs": [],
   "source": [
    "from torch_geometric.datasets import QM9\n"
   ]
  },
  {
   "cell_type": "code",
   "execution_count": 3,
   "metadata": {},
   "outputs": [],
   "source": [
    "from shared import QM9MainDatamodule\n",
    "from torch_geometric.loader import DataLoader as GeomDataLoader\n",
    "\n",
    "\n",
    "class GraphQM9Datamodule(QM9MainDatamodule):\n",
    "    def train_dataloader(self):\n",
    "        return GeomDataLoader(self.train_set, batch_size=self.batch_size, num_workers=self.num_workers)\n",
    "\n",
    "    def val_dataloader(self):\n",
    "        return GeomDataLoader(self.val_set, batch_size=self.batch_size, num_workers=self.num_workers)\n",
    "\n",
    "    def test_dataloader(self):\n",
    "        return GeomDataLoader(self.test_set, batch_size=self.batch_size, num_workers=self.num_workers)"
   ]
  },
  {
   "cell_type": "markdown",
   "metadata": {},
   "source": [
    "## Networks"
   ]
  },
  {
   "cell_type": "code",
   "execution_count": 4,
   "metadata": {},
   "outputs": [],
   "source": [
    "from torch_geometric.nn.models.dimenet import DimeNet as GeoDimeNet\n",
    "\n",
    "# wraper for error in initialization, for proper initialization torch.no_grad() required\n",
    "class DimeNet(GeoDimeNet):\n",
    "    def __init__(self, *args, **kwargs):\n",
    "        with torch.no_grad():\n",
    "            super().__init__(*args, **kwargs)"
   ]
  },
  {
   "cell_type": "code",
   "execution_count": 5,
   "metadata": {},
   "outputs": [],
   "source": [
    "import torch.nn.functional as F\n",
    "from shared import Module\n",
    "\n",
    "class DimeNetModule(Module):\n",
    "    def __init__(self, **kwargs):\n",
    "        super().__init__()\n",
    "        self.net = DimeNet(**kwargs)\n",
    "        \n",
    "    def step(self, batch, batch_idx):\n",
    "        z, pos, y, g_batch = batch.z, batch.pos, batch.y, batch.batch\n",
    "        output = self.net(z, pos, g_batch)\n",
    "        loss = F.l1_loss(output, y)\n",
    "        return loss, output.detach(), y.detach()"
   ]
  },
  {
   "cell_type": "markdown",
   "metadata": {},
   "source": [
    "## Training"
   ]
  },
  {
   "cell_type": "code",
   "execution_count": 6,
   "metadata": {},
   "outputs": [
    {
     "name": "stderr",
     "output_type": "stream",
     "text": [
      "GPU available: True, used: True\n",
      "TPU available: False, using: 0 TPU cores\n",
      "IPU available: False, using: 0 IPUs\n"
     ]
    }
   ],
   "source": [
    "from pytorch_lightning.callbacks.early_stopping import EarlyStopping\n",
    "from pytorch_lightning.callbacks.model_checkpoint import ModelCheckpoint\n",
    "\n",
    "if __name__ ==  \"__main__\":\n",
    "    logger = pl.loggers.tensorboard.TensorBoardLogger(\"./lightning_logs/\", name='dimenet', version='with_gradient_clip')\n",
    "    early_stop_callback = EarlyStopping(monitor=\"loss/val\", patience=10, verbose=True, mode=\"min\")\n",
    "    checkpoint_callback = ModelCheckpoint(monitor='loss/val', filename='dimenet-epoch{epoch:02d}-val_loss{val/loss:.2f}',\n",
    "                                          auto_insert_metric_name=False, save_top_k=10)\n",
    "\n",
    "\n",
    "    trainer = pl.Trainer(gpus=[0], logger=logger, max_epochs=100,  \n",
    "                         callbacks=[checkpoint_callback, early_stop_callback],  gradient_clip_val=0.5)\n",
    "    datamodule = GraphQM9Datamodule()\n",
    "    model = DimeNetModule(hidden_channels=128, out_channels=12, num_blocks=6,\n",
    "                            num_bilinear=8, num_spherical=7, num_radial=6,\n",
    "                            cutoff=5.0, envelope_exponent=5, num_before_skip=1,\n",
    "                            num_after_skip=2, num_output_layers=3)"
   ]
  },
  {
   "cell_type": "code",
   "execution_count": null,
   "metadata": {},
   "outputs": [],
   "source": [
    "if __name__ ==  \"__main__\":\n",
    "    trainer.fit(model, datamodule)\n",
    "    trainer.test(model, datamodule)"
   ]
  }
 ],
 "metadata": {
  "interpreter": {
   "hash": "ea35a61d2bf4bf3434181c5376b70e31d0695b011d5564fcc8ce18196d26ba4b"
  },
  "kernelspec": {
   "display_name": "gnn",
   "language": "python",
   "name": "gnn"
  },
  "language_info": {
   "codemirror_mode": {
    "name": "ipython",
    "version": 3
   },
   "file_extension": ".py",
   "mimetype": "text/x-python",
   "name": "python",
   "nbconvert_exporter": "python",
   "pygments_lexer": "ipython3",
   "version": "3.9.7"
  }
 },
 "nbformat": 4,
 "nbformat_minor": 4
}
