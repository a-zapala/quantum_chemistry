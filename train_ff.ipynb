{
 "cells": [
  {
   "cell_type": "code",
   "execution_count": 1,
   "metadata": {},
   "outputs": [],
   "source": [
    "import pytorch_lightning as pl\n",
    "import numpy as np\n",
    "import torch"
   ]
  },
  {
   "cell_type": "markdown",
   "metadata": {},
   "source": [
    "## Datamodule"
   ]
  },
  {
   "cell_type": "code",
   "execution_count": 2,
   "metadata": {},
   "outputs": [],
   "source": [
    "from torch.utils.data import DataLoader as TorchDataLoader\n",
    "from torch.utils.data import Dataset\n",
    "from shared import QM9MainDatamodule\n",
    "\n",
    "class FlattenQM9(Dataset):\n",
    "    MAX_NUMBER_ATOMS = 29\n",
    "    \n",
    "    def __init__(self, qm9_dataset):\n",
    "        self.qm9 = qm9_dataset\n",
    "    \n",
    "    def __len__(self):\n",
    "        return len(self.qm9)\n",
    "    \n",
    "    def __getitem__(self, idx):\n",
    "        data = self.qm9[idx]\n",
    "        edges = torch.zeros((self.MAX_NUMBER_ATOMS, self.MAX_NUMBER_ATOMS, data.edge_attr.shape[1]))\n",
    "        edges[data.edge_index[0], data.edge_index[1], :] = data.edge_attr        \n",
    "        \n",
    "        nodes = torch.full((self.MAX_NUMBER_ATOMS, data.x.shape[1] + data.pos.shape[1]), 0)\n",
    "        nodes[:data.x.shape[0], :] = torch.cat([data.x, data.pos], dim=1)\n",
    "        \n",
    "        x = torch.cat([\n",
    "            torch.flatten(nodes),\n",
    "            torch.flatten(edges),\n",
    "        ]).reshape(1,-1)\n",
    "        return x, data.y\n",
    "\n",
    "class FlattenQM9Datamodule(QM9MainDatamodule):\n",
    "    def setup(self, stage=None):\n",
    "        super().setup(stage)\n",
    "        self.train_set = FlattenQM9(self.train_set)\n",
    "        self.val_set = FlattenQM9(self.val_set)\n",
    "        self.test_set = FlattenQM9(self.test_set)\n",
    "\n",
    "    def train_dataloader(self):\n",
    "        return TorchDataLoader(self.train_set, batch_size=self.batch_size, num_workers=self.num_workers)\n",
    "\n",
    "    def val_dataloader(self):\n",
    "        return TorchDataLoader(self.val_set, batch_size=self.batch_size, num_workers=self.num_workers)\n",
    "\n",
    "    def test_dataloader(self):\n",
    "        return TorchDataLoader(self.test_set, batch_size=self.batch_size, num_workers=self.num_workers)"
   ]
  },
  {
   "cell_type": "markdown",
   "metadata": {},
   "source": [
    "## Network"
   ]
  },
  {
   "cell_type": "code",
   "execution_count": 3,
   "metadata": {},
   "outputs": [],
   "source": [
    "class FeedforwadNN(torch.nn.Module):\n",
    "        def __init__(self, input_size, hidden_size, output_size):\n",
    "            super(FeedforwadNN, self).__init__()\n",
    "            self.input_size = input_size\n",
    "            self.hidden_size  = hidden_size\n",
    "            self.output_size = output_size\n",
    "            self.fc1 = torch.nn.Linear(self.input_size, self.hidden_size)\n",
    "            self.relu = torch.nn.ReLU()\n",
    "            self.fc2 = torch.nn.Linear(self.hidden_size, self.hidden_size)\n",
    "            self.fc3 = torch.nn.Linear(self.hidden_size, self.output_size)\n",
    "            \n",
    "        def forward(self, x):\n",
    "            x = self.fc1(x)\n",
    "            x = self.relu(x)\n",
    "            x = self.fc2(x)\n",
    "            x = self.relu(x)\n",
    "            output = self.fc3(x)\n",
    "            return output\n"
   ]
  },
  {
   "cell_type": "code",
   "execution_count": 4,
   "metadata": {},
   "outputs": [],
   "source": [
    "from shared  import Module\n",
    "\n",
    "import torch.nn.functional as F\n",
    "\n",
    "class FeedforwadModule(Module):\n",
    "    def __init__(self, input_size, hidden_size, output_size):\n",
    "        super().__init__()\n",
    "        self.net = FeedforwadNN(input_size, hidden_size, output_size)\n",
    "    \n",
    "    def step(self, batch, batch_idx):\n",
    "        x, y = batch\n",
    "        output = self.net(x)\n",
    "        loss = F.l1_loss(output, y)\n",
    "        return loss, output.detach(), y.detach()"
   ]
  },
  {
   "cell_type": "markdown",
   "metadata": {},
   "source": [
    "## Training"
   ]
  },
  {
   "cell_type": "code",
   "execution_count": 5,
   "metadata": {},
   "outputs": [
    {
     "name": "stderr",
     "output_type": "stream",
     "text": [
      "GPU available: True, used: True\n",
      "TPU available: False, using: 0 TPU cores\n",
      "IPU available: False, using: 0 IPUs\n"
     ]
    }
   ],
   "source": [
    "from pytorch_lightning.callbacks.early_stopping import EarlyStopping\n",
    "from pytorch_lightning.callbacks.model_checkpoint import ModelCheckpoint\n",
    "\n",
    "if __name__ ==  \"__main__\":\n",
    "    early_stop_callback = EarlyStopping(monitor=\"loss/val\", patience=10, verbose=False, mode=\"min\")\n",
    "    checkpoint_callback = ModelCheckpoint(monitor='loss/val', filename='feedforward-epoch{epoch:02d}-val_loss{val/loss:.2f}',\n",
    "                                            auto_insert_metric_name=False, save_top_k=10)\n",
    "    logger = pl.loggers.tensorboard.TensorBoardLogger(\"./lightning_logs/\", name='feedforward_2_hidden_layers', version=\"version_0\")\n",
    "    trainer = pl.Trainer(gpus=[1], logger=logger, callbacks=[checkpoint_callback, early_stop_callback], max_epochs=100)\n",
    "    datamodule = FlattenQM9Datamodule()\n",
    "\n",
    "    datamodule.setup()\n",
    "    x, y = datamodule.val_set[0]\n",
    "    model = FeedforwadModule(input_size=x.shape[1], hidden_size=100, output_size=y.shape[1])"
   ]
  },
  {
   "cell_type": "code",
   "execution_count": null,
   "metadata": {},
   "outputs": [],
   "source": [
    "if __name__ == \"__main__\":\n",
    "    trainer.fit(model, datamodule)\n",
    "    trainer.test(model, datamodule)"
   ]
  }
 ],
 "metadata": {
  "interpreter": {
   "hash": "ea35a61d2bf4bf3434181c5376b70e31d0695b011d5564fcc8ce18196d26ba4b"
  },
  "kernelspec": {
   "display_name": "gnn",
   "language": "python",
   "name": "gnn"
  },
  "language_info": {
   "codemirror_mode": {
    "name": "ipython",
    "version": 3
   },
   "file_extension": ".py",
   "mimetype": "text/x-python",
   "name": "python",
   "nbconvert_exporter": "python",
   "pygments_lexer": "ipython3",
   "version": "3.9.7"
  }
 },
 "nbformat": 4,
 "nbformat_minor": 4
}
